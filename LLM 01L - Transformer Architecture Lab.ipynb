{
 "cells": [
  {
   "cell_type": "markdown",
   "metadata": {
    "application/vnd.databricks.v1+cell": {
     "cellMetadata": {
      "byteLimit": 2048000,
      "rowLimit": 10000
     },
     "inputWidgets": {},
     "nuid": "cef04af4-1ead-44ca-8988-c10fa848fd96",
     "showTitle": false,
     "title": ""
    }
   },
   "source": [
    "\n",
    "<div style=\"text-align: center; line-height: 0; padding-top: 9px;\">\n",
    "  <img src=\"https://databricks.com/wp-content/uploads/2018/03/db-academy-rgb-1200px.png\" alt=\"Databricks Learning\" style=\"width: 600px\">\n",
    "</div>"
   ]
  },
  {
   "cell_type": "markdown",
   "metadata": {
    "application/vnd.databricks.v1+cell": {
     "cellMetadata": {
      "byteLimit": 2048000,
      "rowLimit": 10000
     },
     "inputWidgets": {},
     "nuid": "945bca3a-746b-40f6-af15-8fc6bc9b1619",
     "showTitle": false,
     "title": ""
    }
   },
   "source": [
    "# Lab: Diving into the Transformer - Utilizing embeddings from transformers\n",
    "\n",
    "In this lab, we will delve into the workings of the Transformer's encoder. We will build the components needed to create our encoder-based model and investigate the embeddings it produces. You will then be asked questions related to these embeddings, including comparisons, distance measurements, and the utilization of masked language modeling (MLM).\n",
    "\n",
    "### ![Dolly](https://files.training.databricks.com/images/llm/dolly_small.png) Learning Objectives\n",
    "1. Develop an encoder from scratch\n",
    "2. Investigating word embeddings (from our untrained models, and BERT)\n",
    "4. Gain practice in Masked Language Modeling (MLM)"
   ]
  },
  {
   "cell_type": "markdown",
   "metadata": {
    "application/vnd.databricks.v1+cell": {
     "cellMetadata": {
      "byteLimit": 2048000,
      "rowLimit": 10000
     },
     "inputWidgets": {},
     "nuid": "90b5a858-1b91-4f18-9800-003b95262b45",
     "showTitle": false,
     "title": ""
    }
   },
   "source": [
    "## Classroom Setup"
   ]
  },
  {
   "cell_type": "code",
   "execution_count": 1,
   "metadata": {
    "application/vnd.databricks.v1+cell": {
     "cellMetadata": {
      "byteLimit": 2048000,
      "rowLimit": 10000
     },
     "inputWidgets": {},
     "nuid": "41e8775a-fdf9-4252-9e8f-2124bb831698",
     "showTitle": false,
     "title": ""
    }
   },
   "outputs": [],
   "source": [
    "# Import necessary libraries\n",
    "import torch\n",
    "import torch.nn as nn\n",
    "import torch.nn.functional as F\n",
    "import math"
   ]
  },
  {
   "cell_type": "markdown",
   "metadata": {},
   "source": [
    "First, can you explain what a sequential deep neural network is in PyTorch?\n",
    "In PyTorch, a sequential deep neural network is a way to define a neural network model by stacking layers sequentially. \n",
    "This allows you to easily create a feedforward neural network by specifying the layers in the order they should be executed.\n",
    "\n",
    "Now, can you tell me what you understand about functional deep neural networks in PyTorch?\n",
    "\n",
    "Functional deep neural networks in PyTorch involve defining the network architecture using the functional API provided by PyTorch. \n",
    "This approach allows for more flexibility in defining complex neural network architectures compared to the sequential method.\n",
    "\n",
    "Can you think of a scenario where you might prefer to use a functional deep neural network instead of a sequential one in PyTorch?\n",
    "One scenario where you might prefer to use a functional deep neural network in PyTorch is when you need to implement complex architectures that involve branching or skipping connections. The functional API allows you to define custom operations and control the flow of data more explicitly, making it suitable for such scenarios."
   ]
  },
  {
   "cell_type": "markdown",
   "metadata": {
    "application/vnd.databricks.v1+cell": {
     "cellMetadata": {
      "byteLimit": 2048000,
      "rowLimit": 10000
     },
     "inputWidgets": {},
     "nuid": "3b7924a2-ade1-427b-8dae-b672478246c8",
     "showTitle": false,
     "title": ""
    }
   },
   "source": [
    "# Section 1 - Building our own Encoder Transformer"
   ]
  },
  {
   "cell_type": "markdown",
   "metadata": {
    "application/vnd.databricks.v1+cell": {
     "cellMetadata": {
      "byteLimit": 2048000,
      "rowLimit": 10000
     },
     "inputWidgets": {},
     "nuid": "eaa59e9b-83c1-452b-9070-895553f23f92",
     "showTitle": false,
     "title": ""
    }
   },
   "source": [
    "### Define the Feed Forward Network\n",
    "\n",
    "We begin by defining the FeedForward class, which represents a simple feed-forward neural network with two linear layers separated by a ReLU activation function, and a dropout layer for regularization."
   ]
  },
  {
   "cell_type": "markdown",
   "metadata": {
    "application/vnd.databricks.v1+cell": {
     "cellMetadata": {
      "byteLimit": 2048000,
      "rowLimit": 10000
     },
     "inputWidgets": {},
     "nuid": "aa06249c-4845-430a-ab68-d3d66918362e",
     "showTitle": false,
     "title": ""
    }
   },
   "source": [
    "This code defines a FeedForward neural network module in PyTorch. Here's a breakdown of what each part of the code does:\n",
    "\n",
    "class FeedForward(nn.Module):: This line defines a new class named FeedForward that inherits from nn.Module, which is the base class for all neural network modules in PyTorch.\n",
    "\n",
    "def __init__(self, d_model, hidden_dim, dropout = 0.1):: This is the initialization function for the FeedForward class. It takes three parameters: d_model (the input size), hidden_dim (the size of the hidden layer), and dropout (the dropout probability, with a default value of 0.1). Inside this function:\n",
    "\n",
    "self.fc1 = nn.Linear(d_model, hidden_dim): This line creates a linear transformation layer (nn.Linear) that maps inputs of size d_model to outputs of size hidden_dim.\n",
    "self.fc2 = nn.Linear(hidden_dim, d_model): This line creates another linear transformation layer that maps inputs of size hidden_dim back to the original input size d_model.\n",
    "self.dropout = nn.Dropout(dropout): This line creates a dropout layer with the specified dropout probability.\n",
    "def forward(self, x):: This function defines the forward pass of the neural network. It takes an input tensor x and passes it through the network layers. Inside this function:\n",
    "\n",
    "out = self.fc1(x): This line applies the first linear transformation to the input x.\n",
    "out = F.relu(out): This line applies the ReLU activation function to the output of the first linear layer.\n",
    "out = self.dropout(out): This line applies dropout to the output of the ReLU activation.\n",
    "out = self.fc2(out): This line applies the second linear transformation to the output of the dropout layer.\n",
    "return out: Finally, the output of the second linear layer is returned as the output of the forward pass.\n",
    "This FeedForward module can be used as a component in a larger neural network architecture, typically within a Transformer model or similar deep learning architecture. It applies two linear transformations with a ReLU activation function and dropout in between, allowing for non-linear transformations and regularization during training."
   ]
  },
  {
   "cell_type": "code",
   "execution_count": 0,
   "metadata": {
    "application/vnd.databricks.v1+cell": {
     "cellMetadata": {
      "byteLimit": 2048000,
      "rowLimit": 10000
     },
     "inputWidgets": {},
     "nuid": "c2a341a7-b62b-4b38-964e-6b32148d14f6",
     "showTitle": false,
     "title": ""
    }
   },
   "outputs": [],
   "source": [
    "class FeedForward(nn.Module):\n",
    "    def __init__(self, d_model, hidden_dim, dropout = 0.1):\n",
    "        super(FeedForward, self).__init__()\n",
    "        self.fc1 = nn.Linear(d_model, hidden_dim)\n",
    "        self.fc2 = nn.Linear(hidden_dim, d_model)\n",
    "        self.dropout = nn.Dropout(dropout)\n",
    "\n",
    "    def forward(self, x):\n",
    "        out = self.fc1(x)\n",
    "        out = F.relu(out)\n",
    "        out = self.dropout(out)\n",
    "        out = self.fc2(out)\n",
    "        return out\n"
   ]
  },
  {
   "cell_type": "markdown",
   "metadata": {
    "application/vnd.databricks.v1+cell": {
     "cellMetadata": {
      "byteLimit": 2048000,
      "rowLimit": 10000
     },
     "inputWidgets": {},
     "nuid": "4271a2de-4e2b-482d-906a-144f3ab7ed5f",
     "showTitle": false,
     "title": ""
    }
   },
   "source": [
    "### Define the Transformer Encoder Block\n",
    "\n",
    "The TransformerEncoderBlock class represents a single block of the transformer encoder, which consists of a multi-head self-attention layer and a feed-forward neural network, with layer normalization and residual connections applied to the outputs of each layer."
   ]
  },
  {
   "cell_type": "markdown",
   "metadata": {
    "application/vnd.databricks.v1+cell": {
     "cellMetadata": {
      "byteLimit": 2048000,
      "rowLimit": 10000
     },
     "inputWidgets": {},
     "nuid": "becf395a-5d63-45e3-ac09-4b949cbff533",
     "showTitle": false,
     "title": ""
    }
   },
   "source": [
    "This code defines a Transformer Encoder Block module in PyTorch. Here's an explanation of each part of the code:\n",
    "\n",
    "class TransformerEncoderBlock(nn.Module):: This line defines a class named TransformerEncoderBlock that inherits from nn.Module.\n",
    "\n",
    "def __init__(self, d_model, num_heads, conv_hidden_dim, dropout=0.1):: This is the initialization function for the TransformerEncoderBlock class. It takes four parameters: d_model (dimension of model), num_heads (number of attention heads), conv_hidden_dim (dimension of the hidden layer in the feedforward network), and dropout (dropout probability, defaulting to 0.1). Inside this function:\n",
    "\n",
    "self.attention = nn.MultiheadAttention(d_model, num_heads, dropout=dropout): This line creates a multi-head attention layer with the specified parameters.\n",
    "self.norm1 = nn.LayerNorm(d_model): This line creates a layer normalization layer for the first normalization step.\n",
    "self.norm2 = nn.LayerNorm(d_model): This line creates a layer normalization layer for the second normalization step.\n",
    "self.feed_forward = FeedForward(d_model, conv_hidden_dim, dropout): This line creates a feedforward network module with the specified parameters.\n",
    "self.dropout = nn.Dropout(dropout): This line creates a dropout layer with the specified dropout probability.\n",
    "def forward(self, x, mask=None):: This function defines the forward pass of the Transformer Encoder Block. It takes an input tensor x and an optional mask. Inside this function:\n",
    "\n",
    "attn_output, _ = self.attention(x, x, x, attn_mask=mask): This line applies multi-head attention to the input x with optional attention mask mask.\n",
    "x = x + self.dropout(attn_output): This line adds the output of the attention layer to the input after applying dropout.\n",
    "x = self.norm1(x): This line applies layer normalization to the output of the attention layer.\n",
    "ff_output = self.feed_forward(x): This line passes the normalized output through the feedforward network.\n",
    "x = x + self.dropout(ff_output): This line adds the output of the feedforward network to the previous output after applying dropout.\n",
    "x = self.norm2(x): This line applies layer normalization to the final output before returning it.\n",
    "This Transformer Encoder Block module encapsulates the components of a single block in a Transformer encoder, including multi-head attention, layer normalization, feedforward network, dropout, and residual connections. It can be stacked to form a complete Transformer encoder architecture for tasks like natural language processing and sequence modeling.\n"
   ]
  },
  {
   "cell_type": "code",
   "execution_count": 0,
   "metadata": {
    "application/vnd.databricks.v1+cell": {
     "cellMetadata": {
      "byteLimit": 2048000,
      "rowLimit": 10000
     },
     "inputWidgets": {},
     "nuid": "f24e2191-4a4e-4507-8fc9-fa6ad7e79179",
     "showTitle": false,
     "title": ""
    }
   },
   "outputs": [],
   "source": [
    "class TransformerEncoderBlock(nn.Module):\n",
    "    def __init__(self, d_model, num_heads, conv_hidden_dim, dropout=0.1):\n",
    "        super(TransformerEncoderBlock, self).__init__()\n",
    "        self.attention = nn.MultiheadAttention(d_model, num_heads, dropout=dropout)\n",
    "        self.norm1 = nn.LayerNorm(d_model)\n",
    "        self.norm2 = nn.LayerNorm(d_model)\n",
    "        self.feed_forward = FeedForward(d_model, conv_hidden_dim, dropout)\n",
    "        self.dropout = nn.Dropout(dropout)\n",
    "\n",
    "    def forward(self, x, mask=None):\n",
    "        # Multi-Head Attention\n",
    "        attn_output, _ = self.attention(x, x, x, attn_mask=mask)\n",
    "        x = x + self.dropout(attn_output)\n",
    "        x = self.norm1(x)\n",
    "\n",
    "        # Feed Forward Network\n",
    "        ff_output = self.feed_forward(x)\n",
    "        x = x + self.dropout(ff_output)\n",
    "        x = self.norm2(x)\n",
    "\n",
    "        return x\n"
   ]
  },
  {
   "cell_type": "markdown",
   "metadata": {
    "application/vnd.databricks.v1+cell": {
     "cellMetadata": {
      "byteLimit": 2048000,
      "rowLimit": 10000
     },
     "inputWidgets": {},
     "nuid": "61220b6e-f97c-4530-a9b6-72bc2212b31b",
     "showTitle": false,
     "title": ""
    }
   },
   "source": [
    "### Define the Transformer Encoder\n",
    "\n",
    "The TransformerEncoder class represents the complete transformer encoder, which consists of a word embedding layer, a positional encoding layer, and a series of transformer encoder blocks."
   ]
  },
  {
   "cell_type": "code",
   "execution_count": 0,
   "metadata": {
    "application/vnd.databricks.v1+cell": {
     "cellMetadata": {
      "byteLimit": 2048000,
      "rowLimit": 10000
     },
     "inputWidgets": {},
     "nuid": "093dec5e-34ca-4815-ab8d-3ac083129293",
     "showTitle": false,
     "title": ""
    }
   },
   "outputs": [],
   "source": [
    "class TransformerEncoder(nn.Module):\n",
    "    def __init__(self, vocab_size, d_model, num_heads, conv_hidden_dim, num_layers, dropout=0.1):\n",
    "        super(TransformerEncoder, self).__init__()\n",
    "        self.word_embedding = nn.Embedding(vocab_size, d_model)\n",
    "        self.position_embedding = nn.Embedding(1000, d_model)  # Assuming a maximum sequence length of 1000\n",
    "        self.layers = nn.ModuleList(\n",
    "            [\n",
    "                TransformerEncoderBlock(d_model, num_heads, conv_hidden_dim, dropout)\n",
    "                for _ in range(num_layers)\n",
    "            ]\n",
    "        )\n",
    "\n",
    "    def forward(self, x, mask=None):\n",
    "        seq_length = x.shape[1]\n",
    "        positions = torch.arange(0, seq_length).expand(x.shape[0], seq_length).to(x.device)\n",
    "        out = self.word_embedding(x) + self.position_embedding(positions)\n",
    "\n",
    "        for layer in self.layers:\n",
    "            out = layer(out, mask)\n",
    "\n",
    "        return out\n"
   ]
  },
  {
   "cell_type": "markdown",
   "metadata": {
    "application/vnd.databricks.v1+cell": {
     "cellMetadata": {
      "byteLimit": 2048000,
      "rowLimit": 10000
     },
     "inputWidgets": {},
     "nuid": "91d12998-07a2-42e8-83cf-c8b64233314e",
     "showTitle": false,
     "title": ""
    }
   },
   "source": [
    "### Instantiate the Model and Perform a Forward Pass\n",
    "\n",
    "We now instantiate the model with a specific set of hyperparameters, generate some random input data, and perform a forward pass through the model."
   ]
  },
  {
   "cell_type": "code",
   "execution_count": 0,
   "metadata": {
    "application/vnd.databricks.v1+cell": {
     "cellMetadata": {
      "byteLimit": 2048000,
      "rowLimit": 10000
     },
     "inputWidgets": {},
     "nuid": "21fe22c9-bb18-427f-b121-397d61e7dd37",
     "showTitle": false,
     "title": ""
    }
   },
   "outputs": [
    {
     "name": "stdout",
     "output_type": "stream",
     "text": [
      "The model has 21,986,304 trainable parameters\n"
     ]
    }
   ],
   "source": [
    "# Assume the following hyperparameters\n",
    "vocab_size = 5000  # size of the vocabulary\n",
    "d_model = 512  # dimension of the word embedding\n",
    "num_heads = 8  # number of attention heads\n",
    "conv_hidden_dim = 2048  # dimension of the hidden layer in the feed-forward network\n",
    "num_layers = 6  # number of Transformer Encoder blocks\n",
    "dropout = 0.1  # dropout rate\n",
    "\n",
    "# Instantiate the model\n",
    "model = TransformerEncoder(vocab_size, d_model, num_heads, conv_hidden_dim, num_layers, dropout)\n",
    "\n",
    "# Generate some example input\n",
    "input_tensor = torch.randint(0, vocab_size, (1, 20))  # batch size of 1 and sequence length of 20\n",
    "\n",
    "# Forward pass through the model\n",
    "output = model(input_tensor, mask=None)\n",
    "\n",
    "\n",
    "\n",
    "print(f\"The model has {sum(p.numel() for p in model.parameters() if p.requires_grad):,} trainable parameters\")"
   ]
  },
  {
   "cell_type": "markdown",
   "metadata": {
    "application/vnd.databricks.v1+cell": {
     "cellMetadata": {
      "byteLimit": 2048000,
      "rowLimit": 10000
     },
     "inputWidgets": {},
     "nuid": "2169801b-4203-4510-ab2b-115cd66e4d01",
     "showTitle": false,
     "title": ""
    }
   },
   "source": [
    "### Investigate Word Embeddings\n",
    "\n",
    "We now generate some random input data and perform a forward pass through the model to obtain the embeddings for each word in the input."
   ]
  },
  {
   "cell_type": "code",
   "execution_count": 0,
   "metadata": {
    "application/vnd.databricks.v1+cell": {
     "cellMetadata": {
      "byteLimit": 2048000,
      "rowLimit": 10000
     },
     "inputWidgets": {},
     "nuid": "d69d7399-8566-4585-bd51-3257ffe22c43",
     "showTitle": false,
     "title": ""
    }
   },
   "outputs": [
    {
     "name": "stdout",
     "output_type": "stream",
     "text": [
      "tensor([[[-0.6224, -0.2451,  1.4899,  ..., -0.0423, -0.9514,  0.0682],\n",
      "         [-1.5299, -2.1988,  0.1265,  ...,  1.1045, -1.0590,  1.9056],\n",
      "         [ 0.7666,  1.5753, -0.9337,  ...,  0.3570,  1.3319,  1.0954],\n",
      "         [ 0.2954,  1.0343, -0.6400,  ...,  1.4719,  0.6980, -1.5223],\n",
      "         [ 0.5441,  0.9375, -1.1850,  ...,  0.8551,  0.0944, -0.4503]]],\n",
      "       grad_fn=<NativeLayerNormBackward0>)\n"
     ]
    }
   ],
   "source": [
    "# Generate some example input\n",
    "input_tensor = torch.randint(0, vocab_size, (1, 5))  # batch size of 1 and sequence length of 5\n",
    "\n",
    "# Forward pass through the model\n",
    "embeddings = model(input_tensor, mask=None)\n",
    "\n",
    "# The `embeddings` tensor now contains the contextualized embeddings for each word in the input sequence\n",
    "print(embeddings)\n"
   ]
  },
  {
   "cell_type": "markdown",
   "metadata": {
    "application/vnd.databricks.v1+cell": {
     "cellMetadata": {
      "byteLimit": 2048000,
      "rowLimit": 10000
     },
     "inputWidgets": {},
     "nuid": "c28f01f6-26ec-4ae0-9628-61221bf95c25",
     "showTitle": false,
     "title": ""
    }
   },
   "source": [
    "### Define Vocabulary and Word-to-ID Mapping\n",
    "\n",
    "To interpret the input and output of our model, we define a vocabulary and a mapping from words to their corresponding IDs."
   ]
  },
  {
   "cell_type": "code",
   "execution_count": 0,
   "metadata": {
    "application/vnd.databricks.v1+cell": {
     "cellMetadata": {
      "byteLimit": 2048000,
      "rowLimit": 10000
     },
     "inputWidgets": {},
     "nuid": "b0c05979-75cb-42fe-9c2b-7bcd5294f19c",
     "showTitle": false,
     "title": ""
    }
   },
   "outputs": [
    {
     "name": "stdout",
     "output_type": "stream",
     "text": [
      "{'[PAD]': 0, '[UNK]': 1, '[CLS]': 2, '[SEP]': 3, '[MASK]': 4, 'the': 5, 'a': 6, 'an': 7, 'cat': 8, 'dog': 9, 'fish': 10, 'bird': 11, 'lion': 12, 'tiger': 13, 'elephant': 14, 'monkey': 15, 'runs': 16, 'jumps': 17, 'sleeps': 18, 'eats': 19, 'drinks': 20, 'fast': 21, 'slow': 22, 'big': 23, 'small': 24, 'red': 25, 'green': 26, 'blue': 27, 'yellow': 28, 'is': 29, 'was': 30, 'will': 31, 'can': 32, 'has': 33, 'have': 34, 'had': 35, 'do': 36, 'does': 37, 'I': 38, 'you': 39, 'he': 40, 'she': 41, 'it': 42, 'we': 43, 'they': 44, 'my': 45, 'your': 46, 'his': 47, 'her': 48, 'its': 49, 'our': 50, 'their': 51}\n"
     ]
    }
   ],
   "source": [
    "# Let's assume the following is our vocabulary\n",
    "vocabulary = [\n",
    "    \"[PAD]\", \"[UNK]\", \"[CLS]\", \"[SEP]\", \"[MASK]\", \n",
    "    \"the\", \"a\", \"an\", \n",
    "    \"cat\", \"dog\", \"fish\", \"bird\", \"lion\", \"tiger\", \"elephant\", \"monkey\",\n",
    "    \"runs\", \"jumps\", \"sleeps\", \"eats\", \"drinks\",\n",
    "    \"fast\", \"slow\", \"big\", \"small\", \"red\", \"green\", \"blue\", \"yellow\",\n",
    "    \"is\", \"was\", \"will\", \"can\", \"has\", \"have\", \"had\", \"do\", \"does\",\n",
    "    \"I\", \"you\", \"he\", \"she\", \"it\", \"we\", \"they\",\n",
    "    \"my\", \"your\", \"his\", \"her\", \"its\", \"our\", \"their\"\n",
    "]\n",
    "\n",
    "# Create a word2id dictionary\n",
    "word2id = {word: idx for idx, word in enumerate(vocabulary)}\n",
    "\n",
    "# Print the dictionary\n",
    "print(word2id)\n"
   ]
  },
  {
   "cell_type": "markdown",
   "metadata": {
    "application/vnd.databricks.v1+cell": {
     "cellMetadata": {
      "byteLimit": 2048000,
      "rowLimit": 10000
     },
     "inputWidgets": {},
     "nuid": "b00395d1-3135-4fcd-9c1b-ce35fd1f4c28",
     "showTitle": false,
     "title": ""
    }
   },
   "source": [
    "### Measure Sentence Similarity\n",
    "\n",
    "We define a function to measure the cosine similarity between two sentences, which is done by averaging the embeddings of the words in each sentence and then calculating the cosine similarity between these average embeddings."
   ]
  },
  {
   "cell_type": "code",
   "execution_count": 0,
   "metadata": {
    "application/vnd.databricks.v1+cell": {
     "cellMetadata": {
      "byteLimit": 2048000,
      "rowLimit": 10000
     },
     "inputWidgets": {},
     "nuid": "03653e44-df87-428a-bb87-6f547e2dd76d",
     "showTitle": false,
     "title": ""
    }
   },
   "outputs": [
    {
     "name": "stdout",
     "output_type": "stream",
     "text": [
      "The cosine similarity between the sentences 'the cat has a blue fish' and 'my sister's dog sleeps' is 0.57.\n"
     ]
    }
   ],
   "source": [
    "# Define a simple function to calculate cosine similarity\n",
    "def cosine_similarity(vec1, vec2):\n",
    "    vec1 = vec1.squeeze()  # remove dimensions of size 1\n",
    "    vec2 = vec2.squeeze()  # remove dimensions of size 1\n",
    "    return torch.dot(vec1, vec2) / (torch.norm(vec1) * torch.norm(vec2))\n",
    "\n",
    "# Define a function to convert a sentence into embeddings\n",
    "def sentence_to_embeddings(sentence, model, word2id):\n",
    "    # Convert sentence to token ids\n",
    "    input_tensor = torch.tensor([word2id.get(word, word2id[\"[UNK]\"]) for word in sentence.split()], dtype=torch.long).unsqueeze(0)\n",
    "    embeddings = model(input_tensor, mask=None)\n",
    "    return embeddings\n",
    "\n",
    "# Define a function to compute the similarity between two sentences\n",
    "def sentence_similarity(sentence1, sentence2, model, word2id):\n",
    "    embeddings1 = sentence_to_embeddings(sentence1, model, word2id)\n",
    "    embeddings2 = sentence_to_embeddings(sentence2, model, word2id)\n",
    "\n",
    "    # Compute the average embeddings of each sentence\n",
    "    avg_embedding1 = torch.mean(embeddings1, dim=1)\n",
    "    avg_embedding2 = torch.mean(embeddings2, dim=1)\n",
    "\n",
    "    # Compute and return the cosine similarity\n",
    "    return cosine_similarity(avg_embedding1, avg_embedding2)\n",
    "\n",
    "# Now we can compute the similarity between two sentences\n",
    "sentence1 = \"the cat has a blue fish\"\n",
    "sentence2 = \"my sister's dog sleeps\"\n",
    "# Compute the similarity\n",
    "similarity = sentence_similarity(sentence1, sentence2, model, word2id)\n",
    "\n",
    "# Extract the value from the tensor and convert it to a Python float\n",
    "similarity_score = similarity.item()\n",
    "\n",
    "# Print the result with a descriptive sentence\n",
    "print(f\"The cosine similarity between the sentences '{sentence1}' and '{sentence2}' is {similarity_score:.2f}.\")"
   ]
  },
  {
   "cell_type": "markdown",
   "metadata": {
    "application/vnd.databricks.v1+cell": {
     "cellMetadata": {
      "byteLimit": 2048000,
      "rowLimit": 10000
     },
     "inputWidgets": {},
     "nuid": "caa1bcd3-1507-4424-8f3e-9bdae70042a9",
     "showTitle": false,
     "title": ""
    }
   },
   "source": [
    "### Visualize Word Embeddings\n",
    "\n",
    "We define a function to visualize the embeddings of a set of words in 2D space, which is done by using PCA to reduce the dimensionality of the embeddings to 2 and then plotting them."
   ]
  },
  {
   "cell_type": "code",
   "execution_count": 0,
   "metadata": {
    "application/vnd.databricks.v1+cell": {
     "cellMetadata": {
      "byteLimit": 2048000,
      "rowLimit": 10000
     },
     "inputWidgets": {},
     "nuid": "4659cbff-1a51-44f3-970a-de8c3c073c04",
     "showTitle": false,
     "title": ""
    }
   },
   "outputs": [
    {
     "data": {
      "image/png": "[encoded data removed]",
      "text/plain": [
       "<Figure size 800x800 with 1 Axes>"
      ]
     },
     "metadata": {},
     "output_type": "display_data"
    }
   ],
   "source": [
    "# Import necessary libraries\n",
    "import numpy as np\n",
    "from sklearn.decomposition import PCA\n",
    "import matplotlib.pyplot as plt\n",
    "\n",
    "# Define a list of words to plot\n",
    "words = [\n",
    "    # Animals\n",
    "    \"cat\", \"dog\", \"fish\", \"bird\", \"lion\", \"tiger\", \"elephant\", \"monkey\",\n",
    "    # Colors\n",
    "    \"red\", \"green\", \"blue\", \"yellow\", \"black\", \"white\", \"pink\", \"orange\",\n",
    "    # Verbs\n",
    "    \"run\", \"jump\", \"swim\", \"fly\", \"eat\", \"drink\", \"sleep\", \"play\"\n",
    "]\n",
    "# Create artificial embeddings for demonstration purposes\n",
    "embeddings = np.array([np.random.rand(512) for _ in words])  # 512 is the dimension of the embeddings\n",
    "\n",
    "# Use PCA to reduce the dimensionality of the embeddings to 2\n",
    "pca = PCA(n_components=2)\n",
    "embeddings_2d = pca.fit_transform(embeddings)\n",
    "\n",
    "# Plot the embeddings\n",
    "plt.figure(figsize=(8, 8))\n",
    "plt.scatter(embeddings_2d[:, 0], embeddings_2d[:, 1],s=500)\n",
    "for i, word in enumerate(words):\n",
    "    plt.annotate(word, xy=(embeddings_2d[i, 0], embeddings_2d[i, 1]))\n",
    "plt.show()\n",
    "\n"
   ]
  },
  {
   "cell_type": "markdown",
   "metadata": {
    "application/vnd.databricks.v1+cell": {
     "cellMetadata": {
      "byteLimit": 2048000,
      "rowLimit": 10000
     },
     "inputWidgets": {},
     "nuid": "9dc06480-d543-4db9-80f9-ad7b1d9cc0a4",
     "showTitle": false,
     "title": ""
    }
   },
   "source": [
    "### Compare with Pre-Trained BERT Embeddings\n",
    "\n",
    "We load a pre-trained BERT model, generate embeddings for a set of words, and visualize them in the same way as before."
   ]
  },
  {
   "cell_type": "code",
   "execution_count": 0,
   "metadata": {
    "application/vnd.databricks.v1+cell": {
     "cellMetadata": {
      "byteLimit": 2048000,
      "rowLimit": 10000
     },
     "inputWidgets": {},
     "nuid": "d282fe72-f09f-4880-84c9-6ada71f42833",
     "showTitle": false,
     "title": ""
    }
   },
   "outputs": [
    {
     "name": "stderr",
     "output_type": "stream",
     "text": [
      "Some weights of the model checkpoint at bert-base-uncased were not used when initializing BertModel: ['cls.predictions.transform.dense.bias', 'cls.seq_relationship.bias', 'cls.predictions.transform.LayerNorm.weight', 'cls.predictions.decoder.weight', 'cls.predictions.transform.dense.weight', 'cls.seq_relationship.weight', 'cls.predictions.transform.LayerNorm.bias', 'cls.predictions.bias']\n",
      "- This IS expected if you are initializing BertModel from the checkpoint of a model trained on another task or with another architecture (e.g. initializing a BertForSequenceClassification model from a BertForPreTraining model).\n",
      "- This IS NOT expected if you are initializing BertModel from the checkpoint of a model that you expect to be exactly identical (initializing a BertForSequenceClassification model from a BertForSequenceClassification model).\n"
     ]
    },
    {
     "data": {
      "application/vnd.jupyter.widget-view+json": {
       "model_id": "e5e055c7107d404aae669e4a9741712a",
       "version_major": 2,
       "version_minor": 0
      },
      "text/plain": [
       "Downloading tokenizer_config.json:   0%|          | 0.00/48.0 [00:00<?, ?B/s]"
      ]
     },
     "metadata": {},
     "output_type": "display_data"
    },
    {
     "data": {
      "image/png": "[encoded data removed]",
      "text/plain": [
       "<Figure size 800x800 with 1 Axes>"
      ]
     },
     "metadata": {},
     "output_type": "display_data"
    }
   ],
   "source": [
    "# Import necessary libraries\n",
    "from transformers import BertModel, BertTokenizer\n",
    "import torch\n",
    "import numpy as np\n",
    "from sklearn.decomposition import PCA\n",
    "import matplotlib.pyplot as plt\n",
    "\n",
    "# Load pre-trained BERT model and tokenizer\n",
    "model_name = \"bert-base-uncased\"\n",
    "model_bert = BertModel.from_pretrained(model_name, cache_dir=DA.paths.datasets+\"/models\")\n",
    "tokenizer = BertTokenizer.from_pretrained(model_name, cache_dir=DA.paths.datasets+\"/models\")\n",
    "\n",
    "# Define a list of words to plot\n",
    "words = [\n",
    "    # Animals\n",
    "    \"cat\", \"dog\", \"fish\", \"bird\", \"lion\", \"tiger\", \"elephant\", \"monkey\",\n",
    "    # Colors\n",
    "    \"red\", \"green\", \"blue\", \"yellow\", \"black\", \"white\", \"pink\", \"orange\",\n",
    "    # Verbs\n",
    "    \"run\", \"jump\", \"swim\", \"fly\", \"eat\", \"drink\", \"sleep\", \"play\"\n",
    "]\n",
    "# Get the embeddings of the words\n",
    "embeddings = []\n",
    "for word in words:\n",
    "    inputs = tokenizer(word, return_tensors=\"pt\")\n",
    "    with torch.no_grad():\n",
    "        outputs = model_bert(**inputs)\n",
    "    embeddings.append(outputs.last_hidden_state[0, 0, :].numpy())\n",
    "\n",
    "# Use PCA to reduce the dimensionality of the embeddings to 2\n",
    "pca = PCA(n_components=2)\n",
    "embeddings_2d = pca.fit_transform(embeddings)\n",
    "\n",
    "# Plot the embeddings\n",
    "plt.figure(figsize=(8, 8))\n",
    "plt.scatter(embeddings_2d[:, 0], embeddings_2d[:, 1],s=500)\n",
    "for i, word in enumerate(words):\n",
    "    plt.annotate(word, xy=(embeddings_2d[i, 0], embeddings_2d[i, 1]))\n",
    "plt.show()"
   ]
  },
  {
   "cell_type": "markdown",
   "metadata": {
    "application/vnd.databricks.v1+cell": {
     "cellMetadata": {
      "byteLimit": 2048000,
      "rowLimit": 10000
     },
     "inputWidgets": {},
     "nuid": "73860f1f-831f-4a9e-b74e-9c2a87930573",
     "showTitle": false,
     "title": ""
    }
   },
   "source": [
    "# Section 1 - Questions\n",
    "\n",
    "Having built our transformer encoder and inspected the embeddings it produces, we can now explore some questions related to these embeddings.\n",
    "\n",
    "**Question 1:** \n",
    "How does changing different hyperparameters (e.g., the dimension of the word embeddings, the number of attention heads, the dimension of the hidden layer in the feed-forward network, the number of encoder blocks, and the dropout rate) affect the overall size of the model?"
   ]
  },
  {
   "cell_type": "code",
   "execution_count": 0,
   "metadata": {
    "application/vnd.databricks.v1+cell": {
     "cellMetadata": {
      "byteLimit": 2048000,
      "rowLimit": 10000
     },
     "inputWidgets": {},
     "nuid": "d18feddf-6848-42fd-8461-87edb860533e",
     "showTitle": false,
     "title": ""
    }
   },
   "outputs": [],
   "source": [
    "def count_parameters(model):\n",
    "    return sum(p.numel() for p in model.parameters() if p.requires_grad)"
   ]
  },
  {
   "cell_type": "code",
   "execution_count": 0,
   "metadata": {
    "application/vnd.databricks.v1+cell": {
     "cellMetadata": {
      "byteLimit": 2048000,
      "rowLimit": 10000
     },
     "inputWidgets": {},
     "nuid": "0f664147-f559-45cf-a3cf-b3710a12cd6c",
     "showTitle": false,
     "title": ""
    }
   },
   "outputs": [
    {
     "name": "stdout",
     "output_type": "stream",
     "text": [
      "The model has 7,328,768 trainable parameters, compared to the 21,986,304 of the original model\n"
     ]
    }
   ],
   "source": [
    "# TODO\n",
    "# Use different parameters to see the effects on the overall model size. \n",
    "# Create a Transformer Encoder with different hyperparameters\n",
    "vocab_size = 1000  # size of the vocabulary\n",
    "d_model = 512  # dimension of the word embedding\n",
    "num_heads = 2  # number of attention heads\n",
    "conv_hidden_dim = 2048  # dimension of the hidden layer in the feed-forward network\n",
    "num_layers = 2  # number of Transformer Encoder blocks\n",
    "dropout = 0.1  # dropout rate\n",
    "\n",
    "# Instantiate the model\n",
    "new_model = TransformerEncoder(vocab_size, d_model, num_heads, conv_hidden_dim, num_layers, dropout)\n",
    "\n",
    "# Generate some example input\n",
    "input_tensor = torch.randint(0, vocab_size, (1, 20))  # batch size of 1 and sequence length of 20\n",
    "\n",
    "# Forward pass through the model\n",
    "output = model(input_tensor, mask=None)\n",
    "\n",
    "print(f\"The model has {count_parameters(new_model):,} trainable parameters, compared to the 21,986,304 of the original model\")"
   ]
  },
  {
   "cell_type": "code",
   "execution_count": 0,
   "metadata": {
    "application/vnd.databricks.v1+cell": {
     "cellMetadata": {
      "byteLimit": 2048000,
      "rowLimit": 10000
     },
     "inputWidgets": {},
     "nuid": "caea482a-2bd2-41e3-a27e-3e9d4d0d9d77",
     "showTitle": false,
     "title": ""
    }
   },
   "outputs": [
    {
     "name": "stdout",
     "output_type": "stream",
     "text": [
      "\u001b[32mPASSED\u001b[0m: All tests passed for lesson1, question1\n",
      "\u001b[32mRESULTS RECORDED\u001b[0m: Click `Submit` when all questions are completed to log the results.\n"
     ]
    }
   ],
   "source": [
    "# Test your answer. DO NOT MODIFY THIS CELL.\n",
    "\n",
    "dbTestQuestion1_1(new_model)"
   ]
  },
  {
   "cell_type": "markdown",
   "metadata": {
    "application/vnd.databricks.v1+cell": {
     "cellMetadata": {
      "byteLimit": 2048000,
      "rowLimit": 10000
     },
     "inputWidgets": {},
     "nuid": "75f9cfa0-fcf0-4072-bb59-2e9c6a969232",
     "showTitle": false,
     "title": ""
    }
   },
   "source": [
    "**Question 2:** \n",
    "Visualize the embeddings of a different set of words. Try choosing a set of words that are related in some way, such as words related to a particular topic or words that are all of a certain type (e.g., all verbs or all nouns)."
   ]
  },
  {
   "cell_type": "code",
   "execution_count": 0,
   "metadata": {
    "application/vnd.databricks.v1+cell": {
     "cellMetadata": {
      "byteLimit": 2048000,
      "rowLimit": 10000
     },
     "inputWidgets": {},
     "nuid": "fcde7fea-ccea-43d0-b98b-a11352ec6086",
     "showTitle": false,
     "title": ""
    }
   },
   "outputs": [
    {
     "data": {
      "image/png": "[encoded data removed]",
      "text/plain": [
       "<Figure size 800x800 with 1 Axes>"
      ]
     },
     "metadata": {},
     "output_type": "display_data"
    }
   ],
   "source": [
    "# TODO\n",
    "words = [\n",
    "    # birds\n",
    "    \"swan\", \"crow\", \"peacock\"\n",
    "    # Colors\n",
    "    \"black\", \"white\", \"blue\"\n",
    "    # Verbs\n",
    "    \"sleep\", \"jump\", \"swim\", \"fly\"\n",
    "]\n",
    "\n",
    "# Get the embeddings of the words\n",
    "embeddings = []\n",
    "for word in words:\n",
    "    inputs = tokenizer(word, return_tensors='pt')\n",
    "    with torch.no_grad():\n",
    "        outputs = model_bert(**inputs)\n",
    "    embeddings.append(outputs.last_hidden_state[0, 0, :].numpy())\n",
    "\n",
    "# Use PCA to reduce the dimensionality of the embeddings to 2\n",
    "pca = PCA(n_components=2)\n",
    "embeddings_2d = pca.fit_transform(embeddings)\n",
    "\n",
    "# Plot the embeddings\n",
    "plt.figure(figsize=(8, 8))\n",
    "plt.scatter(embeddings_2d[:, 0], embeddings_2d[:, 1],s=500)\n",
    "for i, word in enumerate(words):\n",
    "    plt.annotate(word, xy=(embeddings_2d[i, 0], embeddings_2d[i, 1]))\n",
    "plt.show()"
   ]
  },
  {
   "cell_type": "code",
   "execution_count": 0,
   "metadata": {
    "application/vnd.databricks.v1+cell": {
     "cellMetadata": {
      "byteLimit": 2048000,
      "rowLimit": 10000
     },
     "inputWidgets": {},
     "nuid": "daa78c85-62e3-4907-9f4e-76434bcf2998",
     "showTitle": false,
     "title": ""
    }
   },
   "outputs": [
    {
     "name": "stdout",
     "output_type": "stream",
     "text": [
      "\u001b[32mPASSED\u001b[0m: All tests passed for lesson1, question2\n",
      "\u001b[32mRESULTS RECORDED\u001b[0m: Click `Submit` when all questions are completed to log the results.\n"
     ]
    }
   ],
   "source": [
    "# Test your answer. DO NOT MODIFY THIS CELL.\n",
    "\n",
    "dbTestQuestion1_2(words)"
   ]
  },
  {
   "cell_type": "markdown",
   "metadata": {
    "application/vnd.databricks.v1+cell": {
     "cellMetadata": {
      "byteLimit": 2048000,
      "rowLimit": 10000
     },
     "inputWidgets": {},
     "nuid": "7ba1a439-220f-466e-a5c2-fc0d40c396d3",
     "showTitle": false,
     "title": ""
    }
   },
   "source": [
    "**Question 3:** \n",
    "Compute the cosine similarity between the embeddings of a sentence and its scrambled version. For example, compare the sentence \"the cat chased the dog\" with \"dog the chased cat the\". What do you observe?"
   ]
  },
  {
   "cell_type": "code",
   "execution_count": 0,
   "metadata": {
    "application/vnd.databricks.v1+cell": {
     "cellMetadata": {
      "byteLimit": 2048000,
      "rowLimit": 10000
     },
     "inputWidgets": {},
     "nuid": "16611cd9-811a-4957-a0a3-5765ebaaf427",
     "showTitle": false,
     "title": ""
    }
   },
   "outputs": [
    {
     "name": "stdout",
     "output_type": "stream",
     "text": [
      "Cosine similarity between original and scrambled sentence embeddings: 0.8358564972877502\n"
     ]
    }
   ],
   "source": [
    "# TODO\n",
    "# Define a sentence and its scrambled version\n",
    "sentence_q3 = \"the cat chased the dog\"\n",
    "scrambled_sentence_q3 = \"dog the chased cat the\"\n",
    "\n",
    "# Compute embeddings and cosine similarity\n",
    "original_embedding = sentence_to_embeddings(sentence_q3, model, word2id)\n",
    "scrambled_embedding = sentence_to_embeddings(scrambled_sentence_q3, model, word2id)\n",
    "\n",
    "# Compute the average embeddings of each sentence\n",
    "avg_embedding_original = torch.mean(original_embedding, dim=1)\n",
    "avg_embedding_scrambled = torch.mean(scrambled_embedding, dim=1)\n",
    "\n",
    "similarity = cosine_similarity(avg_embedding_original, avg_embedding_scrambled)\n",
    "print(\"Cosine similarity between original and scrambled sentence embeddings:\", similarity.item())\n",
    "\n"
   ]
  },
  {
   "cell_type": "code",
   "execution_count": 0,
   "metadata": {
    "application/vnd.databricks.v1+cell": {
     "cellMetadata": {
      "byteLimit": 2048000,
      "rowLimit": 10000
     },
     "inputWidgets": {},
     "nuid": "994616dd-0e2b-4a74-b70b-e7b8dd406aed",
     "showTitle": false,
     "title": ""
    }
   },
   "outputs": [
    {
     "name": "stdout",
     "output_type": "stream",
     "text": [
      "\u001b[32mPASSED\u001b[0m: All tests passed for lesson1, question3\n",
      "\u001b[32mRESULTS RECORDED\u001b[0m: Click `Submit` when all questions are completed to log the results.\n"
     ]
    }
   ],
   "source": [
    "# Test your answer. DO NOT MODIFY THIS CELL.\n",
    "\n",
    "dbTestQuestion1_3(sentence_q3, scrambled_sentence_q3)"
   ]
  },
  {
   "cell_type": "markdown",
   "metadata": {
    "application/vnd.databricks.v1+cell": {
     "cellMetadata": {
      "byteLimit": 2048000,
      "rowLimit": 10000
     },
     "inputWidgets": {},
     "nuid": "47a832fe-eba3-46e4-bdf0-fd269a0dc678",
     "showTitle": false,
     "title": ""
    }
   },
   "source": [
    "**Question 4:** \n",
    "Compute the cosine similarity between the embeddings of a word used in two different contexts. For example, try the word `bank`, \"he needs to bank the money\" vs. \"he is going to the bank of the river\". What do you observe?"
   ]
  },
  {
   "cell_type": "code",
   "execution_count": 0,
   "metadata": {
    "application/vnd.databricks.v1+cell": {
     "cellMetadata": {
      "byteLimit": 2048000,
      "rowLimit": 10000
     },
     "inputWidgets": {},
     "nuid": "34c6eeed-a6ce-4c4f-96cf-20eb9a1cb9f7",
     "showTitle": false,
     "title": ""
    }
   },
   "outputs": [
    {
     "name": "stdout",
     "output_type": "stream",
     "text": [
      "Cosine similarity between embeddings of the word 'bank' in two different contexts: 0.850875973701477\n"
     ]
    }
   ],
   "source": [
    "# TODO\n",
    "# Define two sentences where a word has different meanings\n",
    "sentence_q4a = \"he needs to bank the money\"\n",
    "sentence_q4b = \"he is going to the bank of the river\"\n",
    "# Compute embeddings and cosine similarity\n",
    "embedding1 = sentence_to_embeddings(sentence_q4a, model, word2id)\n",
    "embedding2 = sentence_to_embeddings(sentence_q4b, model, word2id)\n",
    "\n",
    "# Compute the average embeddings of each sentence\n",
    "avg_embedding1 = torch.mean(embedding1, dim=1)\n",
    "avg_embedding2 = torch.mean(embedding2, dim=1)\n",
    "\n",
    "similarity = cosine_similarity(avg_embedding1, avg_embedding2)\n",
    "print(f\"Cosine similarity between embeddings of the word 'bank' in two different contexts: {similarity.item()}\")"
   ]
  },
  {
   "cell_type": "code",
   "execution_count": 0,
   "metadata": {
    "application/vnd.databricks.v1+cell": {
     "cellMetadata": {
      "byteLimit": 2048000,
      "rowLimit": 10000
     },
     "inputWidgets": {},
     "nuid": "626a73cc-5c24-400e-9eb8-d9922a201cd6",
     "showTitle": false,
     "title": ""
    }
   },
   "outputs": [
    {
     "name": "stdout",
     "output_type": "stream",
     "text": [
      "\u001b[32mPASSED\u001b[0m: All tests passed for lesson1, question4\n",
      "\u001b[32mRESULTS RECORDED\u001b[0m: Click `Submit` when all questions are completed to log the results.\n"
     ]
    }
   ],
   "source": [
    "# Test your answer. DO NOT MODIFY THIS CELL.\n",
    "\n",
    "dbTestQuestion1_4(sentence_q4a, sentence_q4b)"
   ]
  },
  {
   "cell_type": "markdown",
   "metadata": {
    "application/vnd.databricks.v1+cell": {
     "cellMetadata": {
      "byteLimit": 2048000,
      "rowLimit": 10000
     },
     "inputWidgets": {},
     "nuid": "4fc3677d-dfb5-4f05-b120-f1a3a369a321",
     "showTitle": false,
     "title": ""
    }
   },
   "source": [
    "# Section 2 - Masked Language Modeling (MLM) with BERT\n",
    "\n",
    "One of the training tasks for BERT is Masked Language Modeling (MLM). In MLM, some percentage of the input tokens are masked at random, and the objective is to predict the original vocabulary id of the masked word based only on its context. Unlike traditional language modeling, MLM is not a sequential task because BERT uses the entire context (left and right of the mask) to predict the masked word. This allows BERT to pre-train a deep bidirectional representation in a straightforward way, which is difficult in standard language modeling."
   ]
  },
  {
   "cell_type": "markdown",
   "metadata": {
    "application/vnd.databricks.v1+cell": {
     "cellMetadata": {
      "byteLimit": 2048000,
      "rowLimit": 10000
     },
     "inputWidgets": {},
     "nuid": "7d4ddfdf-093e-49bc-a21c-1c9faebe6af5",
     "showTitle": false,
     "title": ""
    }
   },
   "source": [
    "BERT (Bidirectional Encoder Representations from Transformers) can be applied in various ways in Natural Language Processing tasks, Decision Making processes, and Transfer Learning scenarios:\n",
    "\n",
    "Natural Language Processing (NLP) Tasks:\n",
    "\n",
    "BERT can be used for tasks such as sentiment analysis, named entity recognition, question answering, text classification, and language translation. Its ability to capture contextual information and semantic relationships makes it effective in understanding and generating natural language text.\n",
    "Decision Making Processes:\n",
    "\n",
    "In decision-making processes, BERT can assist in analyzing large volumes of text data to extract insights, identify patterns, and make informed decisions. By understanding the context and meaning of text, BERT can support decision-making in areas such as customer feedback analysis, risk assessment, and sentiment analysis.\n",
    "Transfer Learning Scenarios:\n",
    "\n",
    "\n",
    "BERT's pre-trained language representations can be fine-tuned on specific tasks with smaller datasets, making it suitable for transfer learning. By leveraging the knowledge learned during pre-training, BERT can be adapted to new tasks such as text classification, entity recognition, or sentiment analysis with improved performance and efficiency.\n",
    "How do you think the application of BERT in these areas can benefit organizations and researchers in improving language understanding, decision-making processes, and transfer learning tasks?\n"
   ]
  },
  {
   "cell_type": "markdown",
   "metadata": {
    "application/vnd.databricks.v1+cell": {
     "cellMetadata": {
      "byteLimit": 2048000,
      "rowLimit": 10000
     },
     "inputWidgets": {},
     "nuid": "36e0a5db-a82f-4f51-b8cf-800ec5a8161e",
     "showTitle": false,
     "title": ""
    }
   },
   "source": [
    "### Masked Language Modeling with BERT\n",
    "\n",
    "We load a pre-trained BERT model that has been fine-tuned for the masked language modeling (MLM) task. We then define a function to predict the word that should fill a `[MASK]` token in a sentence.\n",
    "\n",
    "Masked Language Modeling (MLM) is a training task used in BERT (Bidirectional Encoder Representations from Transformers) where some of the input tokens are masked out, and the model is trained to predict the masked tokens based on the context provided by the surrounding tokens. This helps BERT learn bidirectional representations of the text by forcing the model to understand and predict missing words in a sentence.\n",
    "\n",
    "How do you think the concept of MLM helps BERT in capturing contextual information and improving its understanding of language during training?\n",
    "The concept of Masked Language Modeling (MLM) in BERT helps the model capture contextual information by training it to predict missing words in a sentence based on the surrounding context. This process encourages BERT to understand the relationships between words in a sentence and learn the nuances of language usage. By predicting masked tokens, BERT is forced to consider the context of the entire sentence, leading to a deeper understanding of language semantics and syntax.\n",
    "\n",
    "\n",
    "Can you think of other ways in which training BERT with MLM can enhance the model's ability to comprehend and generate language?\n",
    "Training BERT with Masked Language Modeling (MLM) can enhance the model's ability to comprehend and generate language in several ways:\n",
    "\n",
    "Contextual Understanding: MLM encourages BERT to consider the context of a word within a sentence, leading to a better understanding of how words relate to each other in different contexts.\n",
    "\n",
    "Semantic Relationships: By predicting masked tokens, BERT learns to capture semantic relationships between words, which helps in tasks like semantic similarity and word analogy.\n",
    "\n",
    "Syntax and Grammar: Training with MLM helps BERT understand the syntactic structure of sentences and improves its ability to generate grammatically correct text.\n",
    "\n",
    "Transfer Learning: MLM pre-training allows BERT to learn general language representations that can be fine-tuned for specific tasks, making it more adaptable and effective in various natural language processing tasks.\n",
    "\n",
    "Reducing Data Requirements: Since MLM uses unsupervised learning, it can help BERT learn from large amounts of unlabeled text data, reducing the need for extensive labeled training data for downstream tasks.\n",
    "\n",
    "How do you think these aspects of training with MLM contribute to BERT's effectiveness in understanding and generating language?\n",
    "\n",
    "Training BERT with Masked Language Modeling (MLM) contributes to its effectiveness in understanding and generating language by enhancing its ability to:\n",
    "\n",
    "Capture Contextual Information: By predicting masked tokens, BERT learns to consider the context of words in a sentence, leading to a better understanding of language nuances and improving its comprehension of text.\n",
    "\n",
    "Learn Semantic Relationships: MLM helps BERT capture semantic relationships between words, enabling it to understand the meaning of words in different contexts and perform tasks like semantic similarity and word analogy effectively.\n",
    "\n",
    "Understand Syntax and Grammar: Training with MLM helps BERT grasp the syntactic structure of sentences, allowing it to generate grammatically correct text and comprehend complex sentence structures.\n",
    "\n",
    "Facilitate Transfer Learning: Pre-training with MLM enables BERT to learn general language representations that can be fine-tuned for specific tasks, making it versatile and effective in various natural language processing applications.\n",
    "\n",
    "Utilize Unlabeled Data: MLM allows BERT to learn from large amounts of unlabeled text data, reducing the dependency on labeled data for training, which can be particularly beneficial in scenarios where labeled data is scarce.\n",
    "\n",
    "How do you think these contributions of MLM training make BERT a powerful tool for natural language processing tasks?\n",
    "The contributions of Masked Language Modeling (MLM) training make BERT a powerful tool for natural language processing tasks by enhancing its ability to:\n",
    "\n",
    "Understand Context: BERT's training with MLM enables it to understand the context of words in a sentence, allowing it to capture subtle nuances and meanings in language.\n",
    "\n",
    "Capture Semantic Relationships: By learning semantic relationships between words, BERT can effectively interpret and generate text with a deeper understanding of word meanings and associations.\n",
    "\n",
    "Handle Syntax and Grammar: BERT's training with MLM helps it grasp the syntactic structure of sentences, leading to improved performance in tasks requiring grammatical accuracy and complex sentence comprehension.\n",
    "\n",
    "Adaptability: The pre-training with MLM makes BERT adaptable for various natural language processing tasks through fine-tuning, enhancing its performance and efficiency in different applications.\n",
    "\n",
    "Data Efficiency: MLM training allows BERT to leverage unlabeled data effectively, reducing the need for large amounts of labeled data and making it a cost-effective solution for NLP tasks."
   ]
  },
  {
   "cell_type": "code",
   "execution_count": 0,
   "metadata": {
    "application/vnd.databricks.v1+cell": {
     "cellMetadata": {
      "byteLimit": 2048000,
      "rowLimit": 10000
     },
     "inputWidgets": {},
     "nuid": "4533b0c4-6962-4d57-90e6-7fc7c50ddd9d",
     "showTitle": false,
     "title": ""
    }
   },
   "outputs": [
    {
     "name": "stderr",
     "output_type": "stream",
     "text": [
      "Some weights of the model checkpoint at bert-base-uncased were not used when initializing BertForMaskedLM: ['cls.seq_relationship.bias', 'cls.seq_relationship.weight']\n",
      "- This IS expected if you are initializing BertForMaskedLM from the checkpoint of a model trained on another task or with another architecture (e.g. initializing a BertForSequenceClassification model from a BertForPreTraining model).\n",
      "- This IS NOT expected if you are initializing BertForMaskedLM from the checkpoint of a model that you expect to be exactly identical (initializing a BertForSequenceClassification model from a BertForSequenceClassification model).\n"
     ]
    },
    {
     "name": "stdout",
     "output_type": "stream",
     "text": [
      ". i love to play the ball . i\n"
     ]
    }
   ],
   "source": [
    "# Import the necessary libraries\n",
    "from transformers import BertTokenizer, BertForMaskedLM\n",
    "\n",
    "# Load pre-trained model and tokenizer\n",
    "tokenizer = BertTokenizer.from_pretrained(\"bert-base-uncased\", cache_dir=DA.paths.datasets+\"/models\")\n",
    "mlm_model = BertForMaskedLM.from_pretrained(\"bert-base-uncased\", cache_dir=DA.paths.datasets+\"/models\")\n",
    "\n",
    "# Define a function to predict masked words\n",
    "def predict_masked_words(sentence, model, tokenizer):\n",
    "    inputs = tokenizer(sentence, return_tensors=\"pt\")\n",
    "    with torch.no_grad():\n",
    "        outputs = model(**inputs)\n",
    "    predicted_token_ids = outputs.logits.argmax(dim=-1)\n",
    "    predicted_tokens = tokenizer.convert_ids_to_tokens(predicted_token_ids[0])\n",
    "    return \" \".join(predicted_tokens)\n",
    "\n",
    "# Define a sentence with a masked word\n",
    "sentence = \"I love to play [MASK] ball.\"\n",
    "print(predict_masked_words(sentence, mlm_model, tokenizer))"
   ]
  },
  {
   "cell_type": "markdown",
   "metadata": {
    "application/vnd.databricks.v1+cell": {
     "cellMetadata": {
      "byteLimit": 2048000,
      "rowLimit": 10000
     },
     "inputWidgets": {},
     "nuid": "e9d53d93-22f9-490f-9ac2-d20beaa49a59",
     "showTitle": false,
     "title": ""
    }
   },
   "source": [
    "### Predict Different Masked Words\n",
    "\n",
    "We define different sentences with masked words and use our model to predict what these masked words should be."
   ]
  },
  {
   "cell_type": "code",
   "execution_count": 0,
   "metadata": {
    "application/vnd.databricks.v1+cell": {
     "cellMetadata": {
      "byteLimit": 2048000,
      "rowLimit": 10000
     },
     "inputWidgets": {},
     "nuid": "137878d8-11fe-4b1d-a3d7-90105cc6ec27",
     "showTitle": false,
     "title": ""
    }
   },
   "outputs": [
    {
     "name": "stdout",
     "output_type": "stream",
     "text": [
      ". the weather today is warm . .\n",
      ". i like to eat it for breakfast . i\n",
      ". she is a beautiful woman . .\n",
      ". he drives a sports car . .\n",
      ". they are going to the hospital . .\n"
     ]
    }
   ],
   "source": [
    "# Define different sentences with masked words\n",
    "sentences = [\n",
    "    \"The weather today is [MASK].\",\n",
    "    \"I like to eat [MASK] for breakfast.\",\n",
    "    \"She is a [MASK] woman.\",\n",
    "    \"He drives a [MASK] car.\",\n",
    "    \"They are going to the [MASK].\"\n",
    "]\n",
    "\n",
    "# Use the model to predict the masked words\n",
    "for sentence in sentences:\n",
    "    print(predict_masked_words(sentence, mlm_model, tokenizer))"
   ]
  },
  {
   "cell_type": "markdown",
   "metadata": {
    "application/vnd.databricks.v1+cell": {
     "cellMetadata": {
      "byteLimit": 2048000,
      "rowLimit": 10000
     },
     "inputWidgets": {},
     "nuid": "8dffeb17-8907-4ad5-b84f-09d5003ec6b5",
     "showTitle": false,
     "title": ""
    }
   },
   "source": [
    "### Experiment with Different Sentences\n",
    "\n",
    "We define even more sentences with masked words and use our model to predict what these masked words should be."
   ]
  },
  {
   "cell_type": "code",
   "execution_count": 0,
   "metadata": {
    "application/vnd.databricks.v1+cell": {
     "cellMetadata": {
      "byteLimit": 2048000,
      "rowLimit": 10000
     },
     "inputWidgets": {},
     "nuid": "d959bf88-4498-4577-9b6a-a7cbb8ce3618",
     "showTitle": false,
     "title": ""
    }
   },
   "outputs": [
    {
     "name": "stdout",
     "output_type": "stream",
     "text": [
      ". my favorite color is pink . .\n",
      ". the cat sat on the floor . .\n",
      ". i am reading a comic book . .\n",
      ". she has a basket of apples . .\n",
      ". he plays the guitar in a band . .\n"
     ]
    }
   ],
   "source": [
    "# Define more sentences with masked words\n",
    "sentences = [\n",
    "    \"My favorite color is [MASK].\",\n",
    "    \"The cat sat on the [MASK].\",\n",
    "    \"I am reading a [MASK] book.\",\n",
    "    \"She has a [MASK] of apples.\",\n",
    "    \"He plays the [MASK] in a band.\"\n",
    "]\n",
    "\n",
    "# Use the model to predict the masked words\n",
    "for sentence in sentences:\n",
    "    print(predict_masked_words(sentence, mlm_model, tokenizer))"
   ]
  },
  {
   "cell_type": "markdown",
   "metadata": {
    "application/vnd.databricks.v1+cell": {
     "cellMetadata": {
      "byteLimit": 2048000,
      "rowLimit": 10000
     },
     "inputWidgets": {},
     "nuid": "8ba7a421-2a53-46fd-b47f-85235ed3a071",
     "showTitle": false,
     "title": ""
    }
   },
   "source": [
    "# Section 2 - Questions\n",
    "\n",
    "Having explored the use of BERT for masked language modeling, we can now explore some questions related to this task.\n",
    "\n",
    "**Question 5:** \n",
    "What happens when you mask more than one word in a sentence? Can the model accurately predict both masked words?"
   ]
  },
  {
   "cell_type": "code",
   "execution_count": 0,
   "metadata": {
    "application/vnd.databricks.v1+cell": {
     "cellMetadata": {
      "byteLimit": 2048000,
      "rowLimit": 10000
     },
     "inputWidgets": {},
     "nuid": "878a1693-8e1c-4715-9d3f-cf9515d1ce76",
     "showTitle": false,
     "title": ""
    }
   },
   "outputs": [
    {
     "name": "stdout",
     "output_type": "stream",
     "text": [
      ". i love to play beach ball with friends . i know when to go . .\n"
     ]
    }
   ],
   "source": [
    "# TODO\n",
    "# Define a sentence with two masked words\n",
    "sentence_q5 = [\"I love to play [MASK] ball with friends. [MASK] know when to go out\"]\n",
    "print(predict_masked_words(sentence_q5, mlm_model, tokenizer))"
   ]
  },
  {
   "cell_type": "code",
   "execution_count": 0,
   "metadata": {
    "application/vnd.databricks.v1+cell": {
     "cellMetadata": {
      "byteLimit": 2048000,
      "rowLimit": 10000
     },
     "inputWidgets": {},
     "nuid": "ff5d34a7-d29c-41b8-8a81-fce3b4838682",
     "showTitle": false,
     "title": ""
    }
   },
   "outputs": [
    {
     "data": {
      "text/plain": [
       "\u001b[0;31m---------------------------------------------------------------------------\u001b[0m\n",
       "\u001b[0;31mAssertionError\u001b[0m                            Traceback (most recent call last)\n",
       "File \u001b[0;32m<command-300840241083388>:3\u001b[0m\n",
       "\u001b[1;32m      1\u001b[0m \u001b[38;5;66;03m# Test your answer. DO NOT MODIFY THIS CELL.\u001b[39;00m\n",
       "\u001b[0;32m----> 3\u001b[0m \u001b[43mdbTestQuestion1_5\u001b[49m\u001b[43m(\u001b[49m\u001b[43msentence_q5\u001b[49m\u001b[43m)\u001b[49m\n",
       "\n",
       "File \u001b[0;32m<command-300840241083412>:41\u001b[0m, in \u001b[0;36mdbTestQuestion1_5\u001b[0;34m(sentence_q5)\u001b[0m\n",
       "\u001b[1;32m     38\u001b[0m lesson, question \u001b[38;5;241m=\u001b[39m \u001b[38;5;124m\"\u001b[39m\u001b[38;5;124mlesson1\u001b[39m\u001b[38;5;124m\"\u001b[39m, \u001b[38;5;124m\"\u001b[39m\u001b[38;5;124mquestion5\u001b[39m\u001b[38;5;124m\"\u001b[39m\n",
       "\u001b[1;32m     39\u001b[0m userhome_for_testing \u001b[38;5;241m=\u001b[39m getUsernameFromEnv(lesson)\n",
       "\u001b[0;32m---> 41\u001b[0m \u001b[38;5;28;01massert\u001b[39;00m sentence_q5\u001b[38;5;241m.\u001b[39mcount(\u001b[38;5;124m\"\u001b[39m\u001b[38;5;124m[MASK]\u001b[39m\u001b[38;5;124m\"\u001b[39m) \u001b[38;5;241m>\u001b[39m\u001b[38;5;241m=\u001b[39m \u001b[38;5;241m2\u001b[39m, \u001b[38;5;124m\"\u001b[39m\u001b[38;5;124mTest NOT passed: `[MASK]` should appear at least twice in your sentence.\u001b[39m\u001b[38;5;124m\"\u001b[39m\n",
       "\u001b[1;32m     43\u001b[0m questionPassed(userhome_for_testing, lesson, question)\n",
       "\n",
       "\u001b[0;31mAssertionError\u001b[0m: Test NOT passed: `[MASK]` should appear at least twice in your sentence."
      ]
     },
     "metadata": {
      "application/vnd.databricks.v1+output": {
       "arguments": {},
       "data": "\u001b[0;31m---------------------------------------------------------------------------\u001b[0m\n\u001b[0;31mAssertionError\u001b[0m                            Traceback (most recent call last)\nFile \u001b[0;32m<command-300840241083388>:3\u001b[0m\n\u001b[1;32m      1\u001b[0m \u001b[38;5;66;03m# Test your answer. DO NOT MODIFY THIS CELL.\u001b[39;00m\n\u001b[0;32m----> 3\u001b[0m \u001b[43mdbTestQuestion1_5\u001b[49m\u001b[43m(\u001b[49m\u001b[43msentence_q5\u001b[49m\u001b[43m)\u001b[49m\n\nFile \u001b[0;32m<command-300840241083412>:41\u001b[0m, in \u001b[0;36mdbTestQuestion1_5\u001b[0;34m(sentence_q5)\u001b[0m\n\u001b[1;32m     38\u001b[0m lesson, question \u001b[38;5;241m=\u001b[39m \u001b[38;5;124m\"\u001b[39m\u001b[38;5;124mlesson1\u001b[39m\u001b[38;5;124m\"\u001b[39m, \u001b[38;5;124m\"\u001b[39m\u001b[38;5;124mquestion5\u001b[39m\u001b[38;5;124m\"\u001b[39m\n\u001b[1;32m     39\u001b[0m userhome_for_testing \u001b[38;5;241m=\u001b[39m getUsernameFromEnv(lesson)\n\u001b[0;32m---> 41\u001b[0m \u001b[38;5;28;01massert\u001b[39;00m sentence_q5\u001b[38;5;241m.\u001b[39mcount(\u001b[38;5;124m\"\u001b[39m\u001b[38;5;124m[MASK]\u001b[39m\u001b[38;5;124m\"\u001b[39m) \u001b[38;5;241m>\u001b[39m\u001b[38;5;241m=\u001b[39m \u001b[38;5;241m2\u001b[39m, \u001b[38;5;124m\"\u001b[39m\u001b[38;5;124mTest NOT passed: `[MASK]` should appear at least twice in your sentence.\u001b[39m\u001b[38;5;124m\"\u001b[39m\n\u001b[1;32m     43\u001b[0m questionPassed(userhome_for_testing, lesson, question)\n\n\u001b[0;31mAssertionError\u001b[0m: Test NOT passed: `[MASK]` should appear at least twice in your sentence.",
       "errorSummary": "<span class='ansi-red-fg'>AssertionError</span>: Test NOT passed: `[MASK]` should appear at least twice in your sentence.",
       "errorTraceType": "ansi",
       "metadata": {},
       "type": "ipynbError"
      }
     },
     "output_type": "display_data"
    }
   ],
   "source": [
    "# Test your answer. DO NOT MODIFY THIS CELL.\n",
    "\n",
    "dbTestQuestion1_5(sentence_q5)"
   ]
  },
  {
   "cell_type": "markdown",
   "metadata": {
    "application/vnd.databricks.v1+cell": {
     "cellMetadata": {
      "byteLimit": 2048000,
      "rowLimit": 10000
     },
     "inputWidgets": {},
     "nuid": "0239c68d-cdb8-409a-8215-3466bdc8f394",
     "showTitle": false,
     "title": ""
    }
   },
   "source": [
    "**Question 6:** \n",
    "Use the model to predict the masked word in a sentence in a language other than English. Does the model accurately predict the masked word? Think about why/why not."
   ]
  },
  {
   "cell_type": "code",
   "execution_count": 0,
   "metadata": {
    "application/vnd.databricks.v1+cell": {
     "cellMetadata": {
      "byteLimit": 2048000,
      "rowLimit": 10000
     },
     "inputWidgets": {},
     "nuid": "11fa3be5-7457-4e91-8da4-7d6404a584d3",
     "showTitle": false,
     "title": ""
    }
   },
   "outputs": [
    {
     "name": "stdout",
     "output_type": "stream",
     "text": [
      ". je t ' aim ##e et je ve ##ux sort ##ir a to . .\n"
     ]
    }
   ],
   "source": [
    "# TODO\n",
    "# Define a sentence in French with a masked word\n",
    "sentence_q6 = \"Je t’aime et je veux sortir [MASK] toi\"\n",
    "# Je t’aime et je veux sortir avec toi\n",
    "print(predict_masked_words(sentence_q6, mlm_model, tokenizer))"
   ]
  },
  {
   "cell_type": "code",
   "execution_count": 0,
   "metadata": {
    "application/vnd.databricks.v1+cell": {
     "cellMetadata": {
      "byteLimit": 2048000,
      "rowLimit": 10000
     },
     "inputWidgets": {},
     "nuid": "bc5d90f7-2935-41c2-ad1a-4c57d8c3a4f2",
     "showTitle": false,
     "title": ""
    }
   },
   "outputs": [
    {
     "name": "stdout",
     "output_type": "stream",
     "text": [
      "\u001b[32mPASSED\u001b[0m: All tests passed for lesson1, question6\n",
      "\u001b[32mRESULTS RECORDED\u001b[0m: Click `Submit` when all questions are completed to log the results.\n"
     ]
    }
   ],
   "source": [
    "# Test your answer. DO NOT MODIFY THIS CELL.\n",
    "\n",
    "dbTestQuestion1_6(sentence_q6)"
   ]
  },
  {
   "cell_type": "markdown",
   "metadata": {
    "application/vnd.databricks.v1+cell": {
     "cellMetadata": {
      "byteLimit": 2048000,
      "rowLimit": 10000
     },
     "inputWidgets": {},
     "nuid": "7254d4ea-6511-401a-a150-6cf6b27a3e41",
     "showTitle": false,
     "title": ""
    }
   },
   "source": [
    "**Question 7:** \n",
    "Mask a word that has different meanings in different contexts. Does the model accurately predict the correct word based on the context?"
   ]
  },
  {
   "cell_type": "code",
   "execution_count": 0,
   "metadata": {
    "application/vnd.databricks.v1+cell": {
     "cellMetadata": {
      "byteLimit": 2048000,
      "rowLimit": 10000
     },
     "inputWidgets": {},
     "nuid": "b517ae7a-af86-422f-ac5f-43ccba446564",
     "showTitle": false,
     "title": ""
    }
   },
   "outputs": [
    {
     "name": "stdout",
     "output_type": "stream",
     "text": [
      ". choose a date , for our next . .\n",
      ". my mom is kenyan , so i am part kenyan . .\n"
     ]
    }
   ],
   "source": [
    "# TODO\n",
    "# Define two sentences where a word has different meanings\n",
    "sentence_q7a = \"Choose [MASK] date, for our next date\"\n",
    "sentence_q7b = \"My mom is Kenyan, so I [MASK] part Kenyan. \"\n",
    "print(predict_masked_words(sentence_q7a, mlm_model, tokenizer))\n",
    "print(predict_masked_words(sentence_q7b, mlm_model, tokenizer))"
   ]
  },
  {
   "cell_type": "code",
   "execution_count": 0,
   "metadata": {
    "application/vnd.databricks.v1+cell": {
     "cellMetadata": {
      "byteLimit": 2048000,
      "rowLimit": 10000
     },
     "inputWidgets": {},
     "nuid": "ce724f0c-7e4e-4f46-9562-adc594d8ba37",
     "showTitle": false,
     "title": ""
    }
   },
   "outputs": [
    {
     "name": "stdout",
     "output_type": "stream",
     "text": [
      "\u001b[32mPASSED\u001b[0m: All tests passed for lesson1, question7\n",
      "\u001b[32mRESULTS RECORDED\u001b[0m: Click `Submit` when all questions are completed to log the results.\n"
     ]
    }
   ],
   "source": [
    "# Test your answer. DO NOT MODIFY THIS CELL.\n",
    "\n",
    "dbTestQuestion1_7(sentence_q7a, sentence_q7b)"
   ]
  },
  {
   "cell_type": "markdown",
   "metadata": {
    "application/vnd.databricks.v1+cell": {
     "cellMetadata": {
      "byteLimit": 2048000,
      "rowLimit": 10000
     },
     "inputWidgets": {},
     "nuid": "819e133b-530c-4f67-a3d4-216aa2391eb8",
     "showTitle": false,
     "title": ""
    }
   },
   "source": [
    "**Question 8:** \n",
    "Mask a word in a sentence that makes sense only in a specific cultural context. Does the model accurately predict the masked word?"
   ]
  },
  {
   "cell_type": "code",
   "execution_count": 0,
   "metadata": {
    "application/vnd.databricks.v1+cell": {
     "cellMetadata": {
      "byteLimit": 2048000,
      "rowLimit": 10000
     },
     "inputWidgets": {},
     "nuid": "748eab8a-f3c0-4bf1-9b0e-704e2b870a1a",
     "showTitle": false,
     "title": ""
    }
   },
   "outputs": [
    {
     "name": "stdout",
     "output_type": "stream",
     "text": [
      ". in the busy busy streets of bengal ##uru , when someone says \" i ' ll be there in 5 minutes , then it ' s a polite way of saying they ' ll arrive sometime within the next hour . you\n"
     ]
    }
   ],
   "source": [
    "# TODO\n",
    "# Define a sentence that makes sense only in a specific cultural context\n",
    "sentence_q8 = \"In [MASK] bustling streets of Bengaluru, when someone says ‘I’ll be there in 5 minutes,’ it’s a polite way [MASK] saying they’ll arrive sometime within the next hour.\"\n",
    "# In the bustling streets of Bengaluru, when someone says ‘I’ll be there in 5 minutes,’ it’s a polite way of saying they’ll arrive sometime within the next hour.\n",
    "print(predict_masked_words(sentence_q8, mlm_model, tokenizer))"
   ]
  },
  {
   "cell_type": "code",
   "execution_count": 0,
   "metadata": {
    "application/vnd.databricks.v1+cell": {
     "cellMetadata": {
      "byteLimit": 2048000,
      "rowLimit": 10000
     },
     "inputWidgets": {},
     "nuid": "e0cd2884-eaa3-4407-989c-fa085e3ec572",
     "showTitle": false,
     "title": ""
    }
   },
   "outputs": [
    {
     "name": "stdout",
     "output_type": "stream",
     "text": [
      "\u001b[32mPASSED\u001b[0m: All tests passed for lesson1, question8\n",
      "\u001b[32mRESULTS RECORDED\u001b[0m: Click `Submit` when all questions are completed to log the results.\n"
     ]
    }
   ],
   "source": [
    "# Test your answer. DO NOT MODIFY THIS CELL.\n",
    "\n",
    "dbTestQuestion1_8(sentence_q8)"
   ]
  },
  {
   "cell_type": "markdown",
   "metadata": {
    "application/vnd.databricks.v1+cell": {
     "cellMetadata": {
      "byteLimit": 2048000,
      "rowLimit": 10000
     },
     "inputWidgets": {},
     "nuid": "a7d1658f-161d-4c6b-aee8-27a32d2b57cb",
     "showTitle": false,
     "title": ""
    }
   },
   "source": [
    "**Question 9:** \n",
    "Mask a word in a sentence that contains an idiomatic expression. Does the model accurately predict the masked word?"
   ]
  },
  {
   "cell_type": "code",
   "execution_count": 0,
   "metadata": {
    "application/vnd.databricks.v1+cell": {
     "cellMetadata": {
      "byteLimit": 2048000,
      "rowLimit": 10000
     },
     "inputWidgets": {},
     "nuid": "1c0e6cfb-ea70-44d0-8deb-11cd927f0c09",
     "showTitle": false,
     "title": ""
    }
   },
   "outputs": [
    {
     "name": "stdout",
     "output_type": "stream",
     "text": [
      ". hell on a cloud . .\n"
     ]
    }
   ],
   "source": [
    "# TODO\n",
    "# Define a sentence that contains an idiomatic expression\n",
    "sentence_q9 = \"[MASK] on a cloud nine\"\n",
    "print(predict_masked_words(sentence_q9, mlm_model, tokenizer))"
   ]
  },
  {
   "cell_type": "code",
   "execution_count": 0,
   "metadata": {
    "application/vnd.databricks.v1+cell": {
     "cellMetadata": {
      "byteLimit": 2048000,
      "rowLimit": 10000
     },
     "inputWidgets": {},
     "nuid": "043a4f26-4a21-4901-8ca5-82339246ff47",
     "showTitle": false,
     "title": ""
    }
   },
   "outputs": [
    {
     "name": "stdout",
     "output_type": "stream",
     "text": [
      "\u001b[32mPASSED\u001b[0m: All tests passed for lesson1, question9\n",
      "\u001b[32mRESULTS RECORDED\u001b[0m: Click `Submit` when all questions are completed to log the results.\n"
     ]
    }
   ],
   "source": [
    "# Test your answer. DO NOT MODIFY THIS CELL.\n",
    "\n",
    "dbTestQuestion1_9(sentence_q9)"
   ]
  },
  {
   "cell_type": "markdown",
   "metadata": {
    "application/vnd.databricks.v1+cell": {
     "cellMetadata": {
      "byteLimit": 2048000,
      "rowLimit": 10000
     },
     "inputWidgets": {},
     "nuid": "efec93f2-e434-420e-9d66-2ac9fa203a81",
     "showTitle": false,
     "title": ""
    }
   },
   "source": [
    "&copy; 2023 Databricks, Inc. All rights reserved.<br/>\n",
    "Apache, Apache Spark, Spark and the Spark logo are trademarks of the <a href=\"https://www.apache.org/\">Apache Software Foundation</a>.<br/>\n",
    "<br/>\n",
    "<a href=\"https://databricks.com/privacy-policy\">Privacy Policy</a> | <a href=\"https://databricks.com/terms-of-use\">Terms of Use</a> | <a href=\"https://help.databricks.com/\">Support</a>"
   ]
  },
  {
   "cell_type": "markdown",
   "metadata": {
    "application/vnd.databricks.v1+cell": {
     "cellMetadata": {
      "byteLimit": 2048000,
      "rowLimit": 10000
     },
     "inputWidgets": {},
     "nuid": "13e5397d-000f-4457-96f6-e4e731575b4d",
     "showTitle": false,
     "title": ""
    }
   },
   "source": [
    "How do you think the application of BERT in these areas can benefit organizations and researchers in improving language understanding, decision-making processes, and transfer learning tasks?\n",
    "\n",
    "he application of BERT in Natural Language Processing tasks, Decision Making processes, and Transfer Learning scenarios can benefit organizations and researchers in several ways:\n",
    "\n",
    "Improved Language Understanding:\n",
    "\n",
    "BERT's ability to capture contextual information and semantic relationships enhances language understanding, leading to more accurate analysis of text data, better language processing models, and improved performance in NLP tasks.\n",
    "Enhanced Decision Making Processes:\n",
    "\n",
    "By utilizing BERT for analyzing text data, organizations can make data-driven decisions based on insights extracted from large volumes of text. BERT's understanding of language nuances and context can aid in sentiment analysis, risk assessment, and customer feedback analysis, improving decision-making processes.\n",
    "Efficient Transfer Learning:\n",
    "\n",
    "BERT's pre-trained language representations allow for efficient transfer learning, where models can be fine-tuned on specific tasks with minimal data. This benefits researchers and organizations by reducing the need for extensive labeled datasets and accelerating the development of models for new tasks or domains.\n",
    "Versatility and Adaptability:\n",
    "\n",
    "BERT's versatility in handling various NLP tasks, decision-making processes, and transfer learning scenarios makes it a valuable tool for organizations and researchers working in diverse domains. Its adaptability to different tasks with minimal adjustments enhances productivity and performance.\n",
    "Cost-Effectiveness:\n",
    "\n",
    "Leveraging BERT for language understanding, decision making, and transfer learning tasks can lead to cost savings by reducing the resources required for data annotation, model training, and development. BERT's efficiency in handling tasks with pre-trained representations can optimize resource utilization.\n",
    "\n"
   ]
  },
  {
   "cell_type": "markdown",
   "metadata": {
    "application/vnd.databricks.v1+cell": {
     "cellMetadata": {
      "byteLimit": 2048000,
      "rowLimit": 10000
     },
     "inputWidgets": {},
     "nuid": "4e9b3954-ea91-4247-900b-02e5e0bff6d1",
     "showTitle": false,
     "title": ""
    }
   },
   "source": [
    "In what specific ways do you think the utilization of BERT can bring about advancements and efficiencies in language processing, decision making, and transfer learning applications within organizations and research settings?\n",
    "\n",
    "The utilization of BERT can bring about advancements and efficiencies in language processing, decision making, and transfer learning applications within organizations and research settings in the following specific ways:\n",
    "\n",
    "Language Processing:\n",
    "\n",
    "BERT's ability to capture contextual information and semantic relationships can lead to more accurate natural language understanding, enabling organizations to develop sophisticated NLP models for tasks like sentiment analysis, text classification, and question answering with higher precision and efficiency.\n",
    "Decision Making:\n",
    "\n",
    "By leveraging BERT for analyzing text data, organizations can extract valuable insights, trends, and sentiments from large datasets, facilitating informed decision-making processes. BERT's language understanding capabilities can support risk assessment, customer feedback analysis, and market trend prediction, leading to more strategic and data-driven decisions.\n",
    "Transfer Learning:\n",
    "\n",
    "BERT's pre-trained language representations enable efficient transfer learning, allowing organizations to adapt models to new tasks or domains with minimal labeled data. This accelerates the development of NLP applications, reduces the time and resources required for model training, and enhances the performance of models in diverse scenarios.\n",
    "Resource Optimization:\n",
    "\n",
    "Utilizing BERT in language processing, decision making, and transfer learning tasks can optimize resource utilization by reducing the need for extensive data annotation and model training. This leads to cost savings, faster model development cycles, and improved scalability of NLP applications within organizations and research settings.\n",
    "Innovation and Research Advancements:\n",
    "\n",
    "BERT's capabilities in language understanding and transfer learning open up opportunities for innovation and research advancements in areas such as natural language understanding, machine translation, and text generation. Researchers can leverage BERT to explore new applications, improve existing models, and push the boundaries of language processing technologies.\n",
    "How do you envision the integration of BERT in language processing, decision making, and transfer learning applications driving innovation and efficiency in organizations and research environments?\n",
    "\n"
   ]
  },
  {
   "cell_type": "markdown",
   "metadata": {
    "application/vnd.databricks.v1+cell": {
     "cellMetadata": {
      "byteLimit": 2048000,
      "rowLimit": 10000
     },
     "inputWidgets": {},
     "nuid": "86fa1544-4992-4bee-83d6-7015a8a835db",
     "showTitle": false,
     "title": ""
    }
   },
   "source": []
  },
  {
   "cell_type": "markdown",
   "metadata": {
    "application/vnd.databricks.v1+cell": {
     "cellMetadata": {
      "byteLimit": 2048000,
      "rowLimit": 10000
     },
     "inputWidgets": {},
     "nuid": "a64f4204-75ae-4771-9433-495e85048c49",
     "showTitle": false,
     "title": ""
    }
   },
   "source": []
  }
 ],
 "metadata": {
  "application/vnd.databricks.v1+notebook": {
   "dashboards": [],
   "language": "python",
   "notebookMetadata": {
    "pythonIndentUnit": 2
   },
   "notebookName": "LLM 01L - Transformer Architecture Lab",
   "widgets": {}
  },
  "kernelspec": {
   "display_name": "Python 3 (ipykernel)",
   "language": "python",
   "name": "python3"
  },
  "language_info": {
   "codemirror_mode": {
    "name": "ipython",
    "version": 3
   },
   "file_extension": ".py",
   "mimetype": "text/x-python",
   "name": "python",
   "nbconvert_exporter": "python",
   "pygments_lexer": "ipython3",
   "version": "3.9.7"
  }
 },
 "nbformat": 4,
 "nbformat_minor": 1
}
